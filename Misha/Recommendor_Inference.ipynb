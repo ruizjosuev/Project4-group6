{
 "cells": [
  {
   "cell_type": "code",
   "execution_count": 1,
   "id": "649f6c74-dc1d-489b-80a4-b21f1ba314cd",
   "metadata": {},
   "outputs": [],
   "source": [
    "# Import Dependencies\n",
    "import pandas as pd\n",
    "import pickle\n",
    "import numpy as np"
   ]
  },
  {
   "cell_type": "code",
   "execution_count": null,
   "id": "4e26056e-acbb-424d-a54b-82205d3a02f3",
   "metadata": {},
   "outputs": [],
   "source": [
    "def make_predictions(popularity,danceability,energy,loudness,\n",
    "                        speechiness, acousticness, instrumentalness, liveness, valence, tempo):\n",
    "    # Step 1: Create a DataFrame from the input data\n",
    "    df = pd.DataFrame({\n",
    "        'popularity': [popularity],\n",
    "        'energy': [energy],\n",
    "        'loudness': [loudness],\n",
    "        'speechiness': [speechiness],\n",
    "        'acousticness': [acousticness],\n",
    "        'instrumentalness': [instrumentalness],\n",
    "        'liveness': [liveness],\n",
    "        'valence': [valence],\n",
    "        'tempo': [tempo],\n",
    "        'key': [key],\n",
    "        'mode': [mode],\n",
    "        'time_signature': [time_signature]\n",
    "    })\n",
    "    \n",
    "    # Step 2: Load the trained model\n",
    "    model = pickle.load(open(\"danceability_model_pipeline.h5\", 'rb'))\n",
    "    \n",
    "    # Step 3: Make predictions using the model\n",
    "    prediction = model.predict(df)\n",
    "    \n",
    "    # The model will output one of the classes: Low, Medium, High\n",
    "    return prediction[0]"
   ]
  },
  {
   "cell_type": "code",
   "execution_count": null,
   "id": "109b84e1-e287-4c4d-9831-8b771be983e2",
   "metadata": {},
   "outputs": [],
   "source": []
  },
  {
   "cell_type": "code",
   "execution_count": null,
   "id": "0dc30b9c-b5d6-40f2-b34a-63fb0cfea546",
   "metadata": {},
   "outputs": [],
   "source": []
  },
  {
   "cell_type": "code",
   "execution_count": null,
   "id": "f79116f0-e61f-4d7c-9f96-023b38096279",
   "metadata": {},
   "outputs": [],
   "source": []
  },
  {
   "cell_type": "code",
   "execution_count": null,
   "id": "44b17182-81af-449b-a856-10d50f06e037",
   "metadata": {},
   "outputs": [],
   "source": []
  },
  {
   "cell_type": "code",
   "execution_count": null,
   "id": "4473ef75-2ad1-4245-8dd3-08b236f50b52",
   "metadata": {},
   "outputs": [],
   "source": []
  },
  {
   "cell_type": "code",
   "execution_count": null,
   "id": "5bb54049-784c-40cf-bb77-a40e9a9b06db",
   "metadata": {},
   "outputs": [],
   "source": []
  },
  {
   "cell_type": "code",
   "execution_count": null,
   "id": "beecb74a-6815-4dc3-9405-5bc73b3ea817",
   "metadata": {},
   "outputs": [],
   "source": []
  },
  {
   "cell_type": "code",
   "execution_count": null,
   "id": "e2984c9a-ca95-4341-a239-2287eeb81e5a",
   "metadata": {},
   "outputs": [],
   "source": []
  },
  {
   "cell_type": "code",
   "execution_count": null,
   "id": "2341dbe3-a03c-4dc7-a0b0-3024c1f27599",
   "metadata": {},
   "outputs": [],
   "source": []
  },
  {
   "cell_type": "code",
   "execution_count": null,
   "id": "e3a1611a-9426-49e0-a609-70ba67499a90",
   "metadata": {},
   "outputs": [],
   "source": []
  },
  {
   "cell_type": "code",
   "execution_count": null,
   "id": "da44ab34-ed8d-40cb-9780-5f9809e30d28",
   "metadata": {},
   "outputs": [],
   "source": []
  },
  {
   "cell_type": "code",
   "execution_count": null,
   "id": "e187f598-2e1f-47f9-b839-1b7401750e25",
   "metadata": {},
   "outputs": [],
   "source": []
  },
  {
   "cell_type": "code",
   "execution_count": null,
   "id": "05780386-4fbe-44e9-a4a3-f1aa08062c90",
   "metadata": {},
   "outputs": [],
   "source": []
  },
  {
   "cell_type": "code",
   "execution_count": null,
   "id": "47721b25-f30b-451d-8770-a216764a48fd",
   "metadata": {},
   "outputs": [],
   "source": []
  }
 ],
 "metadata": {
  "kernelspec": {
   "display_name": "Python 3 (ipykernel)",
   "language": "python",
   "name": "python3"
  },
  "language_info": {
   "codemirror_mode": {
    "name": "ipython",
    "version": 3
   },
   "file_extension": ".py",
   "mimetype": "text/x-python",
   "name": "python",
   "nbconvert_exporter": "python",
   "pygments_lexer": "ipython3",
   "version": "3.10.15"
  }
 },
 "nbformat": 4,
 "nbformat_minor": 5
}
