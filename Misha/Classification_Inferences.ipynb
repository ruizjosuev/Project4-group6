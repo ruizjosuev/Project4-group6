{
 "cells": [
  {
   "cell_type": "code",
   "execution_count": 4,
   "id": "7c98c91b-960b-441d-87f1-ac9224525203",
   "metadata": {},
   "outputs": [],
   "source": [
    "# Import Dependencies\n",
    "import pandas as pd\n",
    "import pickle\n",
    "import numpy as np"
   ]
  },
  {
   "cell_type": "code",
   "execution_count": 5,
   "id": "0eb41990-6150-46b3-a3cf-c170fe12606b",
   "metadata": {},
   "outputs": [],
   "source": [
    "\n",
    "def make_predictions(popularity, energy, loudness, speechiness, acousticness, instrumentalness, \n",
    "                     liveness, valence, tempo, key, mode, time_signature):\n",
    "    # Step 1: Create a DataFrame from the input data\n",
    "    df = pd.DataFrame({\n",
    "        'popularity': [popularity],\n",
    "        'energy': [energy],\n",
    "        'loudness': [loudness],\n",
    "        'speechiness': [speechiness],\n",
    "        'acousticness': [acousticness],\n",
    "        'instrumentalness': [instrumentalness],\n",
    "        'liveness': [liveness],\n",
    "        'valence': [valence],\n",
    "        'tempo': [tempo],\n",
    "        'key': [key],\n",
    "        'mode': [mode],\n",
    "        'time_signature': [time_signature]\n",
    "    })\n",
    "    \n",
    "    # Step 2: Load the trained model\n",
    "    model = pickle.load(open(\"danceability_model_pipeline.h5\", 'rb'))\n",
    "    \n",
    "    # Step 3: Make predictions using the model\n",
    "    prediction = model.predict(df)\n",
    "    \n",
    "    # The model will output one of the classes: Low, Medium, High\n",
    "    return prediction[0]\n",
    "\n"
   ]
  },
  {
   "cell_type": "code",
   "execution_count": 6,
   "id": "d02cc678-58f8-4f9d-9912-757f8177a220",
   "metadata": {},
   "outputs": [
    {
     "name": "stdout",
     "output_type": "stream",
     "text": [
      "Predicted danceability class: High\n"
     ]
    }
   ],
   "source": [
    "# Test the function with a sample input\n",
    "result = make_predictions(\n",
    "    popularity=73,energy=0.461, loudness=-6.746, \n",
    "    speechiness=0.143, acousticness=0.0322, instrumentalness=0.000001, \n",
    "    liveness=0.358, valence=0.715, tempo=87.917, key=0, mode=1, time_signature=4\n",
    ")\n",
    "\n",
    "print(f\"Predicted danceability class: {result}\")\n"
   ]
  },
  {
   "cell_type": "code",
   "execution_count": null,
   "id": "09fc72ec-fe7f-4af8-94b8-6b13a9c05cf5",
   "metadata": {},
   "outputs": [],
   "source": []
  },
  {
   "cell_type": "code",
   "execution_count": null,
   "id": "cf0645e1-08eb-438d-b5bd-f56c8c743fd3",
   "metadata": {},
   "outputs": [],
   "source": []
  },
  {
   "cell_type": "code",
   "execution_count": null,
   "id": "d49a7c76-634e-4cc3-866b-34d086bf33d9",
   "metadata": {},
   "outputs": [],
   "source": []
  },
  {
   "cell_type": "code",
   "execution_count": null,
   "id": "bb951333-0343-4aa2-adea-bcf4cc1e64f7",
   "metadata": {},
   "outputs": [],
   "source": []
  }
 ],
 "metadata": {
  "kernelspec": {
   "display_name": "Python 3 (ipykernel)",
   "language": "python",
   "name": "python3"
  },
  "language_info": {
   "codemirror_mode": {
    "name": "ipython",
    "version": 3
   },
   "file_extension": ".py",
   "mimetype": "text/x-python",
   "name": "python",
   "nbconvert_exporter": "python",
   "pygments_lexer": "ipython3",
   "version": "3.10.15"
  }
 },
 "nbformat": 4,
 "nbformat_minor": 5
}
